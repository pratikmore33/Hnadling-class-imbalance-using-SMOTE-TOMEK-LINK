{
  "nbformat": 4,
  "nbformat_minor": 0,
  "metadata": {
    "colab": {
      "provenance": [],
      "collapsed_sections": []
    },
    "kernelspec": {
      "name": "python3",
      "display_name": "Python 3"
    }
  },
  "cells": [
    {
      "cell_type": "markdown",
      "metadata": {
        "id": "sXPfzgJyvNL8"
      },
      "source": [
        "# Let’s say we have a dataset of credit card companies where we have to find out whether the credit card transaction was fraudulent or not.\n",
        "\n",
        "But here’s the catch… the fraud transaction is relatively rare, only 6% of the transaction is fraudulent.\n",
        "\n",
        "Now, before you even start, do you see how the problem might break? Imagine if you didn’t bother training a model at all. Instead, what if you just wrote a single line of code that always predicts ‘no fraudulent transaction’.\n",
        "\n",
        "```\n",
        "def transaction(transaction_data):\n",
        "    return 'No fradulent transaction'\n",
        "```\n",
        "\n",
        "\n",
        "\n",
        "\n",
        "\n"
      ]
    },
    {
      "cell_type": "code",
      "source": [
        "from google.colab import drive\n",
        "drive.mount('/content/drive')"
      ],
      "metadata": {
        "id": "LZTeVnysqWdB",
        "outputId": "d36e3e61-d1e9-44f2-9b06-c852813f8ee2",
        "colab": {
          "base_uri": "https://localhost:8080/"
        }
      },
      "execution_count": null,
      "outputs": [
        {
          "output_type": "stream",
          "name": "stdout",
          "text": [
            "Mounted at /content/drive\n"
          ]
        }
      ]
    },
    {
      "cell_type": "code",
      "metadata": {
        "id": "9GacsPceupVa"
      },
      "source": [
        "# lets import some important liabries \n",
        "import pandas as pd\n",
        "import numpy as np\n",
        "import matplotlib.pyplot as plt\n",
        "import seaborn as sns\n",
        "\n",
        "from sklearn.model_selection import train_test_split\n",
        "from xgboost import XGBClassifier\n",
        "from sklearn.ensemble import RandomForestClassifier\n",
        "from sklearn.ensemble import GradientBoostingClassifier\n",
        "from sklearn.model_selection import GridSearchCV\n",
        "from sklearn.metrics import roc_auc_score, confusion_matrix, accuracy_score"
      ],
      "execution_count": null,
      "outputs": []
    },
    {
      "cell_type": "code",
      "metadata": {
        "id": "RhHXjwLrwub5"
      },
      "source": [
        "data = pd.read_csv('/content/drive/MyDrive/Colab Notebooks/machine learning/4.16 guided project and self project/creditcard.csv')"
      ],
      "execution_count": null,
      "outputs": []
    },
    {
      "cell_type": "code",
      "metadata": {
        "colab": {
          "base_uri": "https://localhost:8080/",
          "height": 299
        },
        "id": "n4idAK_pw_PK",
        "outputId": "1feb9b77-58eb-47e1-fd5d-bdd66a172b84"
      },
      "source": [
        "data.head()"
      ],
      "execution_count": null,
      "outputs": [
        {
          "output_type": "execute_result",
          "data": {
            "text/plain": [
              "         V1        V2        V3        V4        V5        V6        V7  \\\n",
              "0  0.114697  0.796303 -0.149553 -0.823011  0.878763 -0.553152  0.939259   \n",
              "1 -0.039318  0.495784 -0.810884  0.546693  1.986257  4.386342 -1.344891   \n",
              "2  2.275706 -1.531508 -1.021969 -1.602152 -1.220329 -0.462376 -1.196485   \n",
              "3  1.940137 -0.357671 -1.210551  0.382523  0.050823 -0.171322 -0.109124   \n",
              "4  1.081395 -0.502615  1.075887 -0.543359 -1.472946 -1.065484 -0.443231   \n",
              "\n",
              "         V8        V9       V10  ...       V21       V22       V23       V24  \\\n",
              "0 -0.108502  0.111137 -0.390521  ... -0.335776 -0.807853 -0.055940 -1.025281   \n",
              "1 -1.743736 -0.563103 -0.616315  ... -1.377003 -0.072200 -0.197573  1.014807   \n",
              "2 -0.147058 -0.950224  1.560463  ... -0.193271 -0.103533  0.150945 -0.811083   \n",
              "3 -0.002115  0.869258 -0.001965  ...  0.157994  0.650355  0.034206  0.739535   \n",
              "4 -0.143374  1.659826 -1.131238  ...  0.224157  0.821209 -0.137223  0.986259   \n",
              "\n",
              "        V25       V26       V27       V28    V29  Target  \n",
              "0 -0.369557  0.204653  0.242724  0.085713   0.89       0  \n",
              "1  1.011293 -0.167684  0.113136  0.256836  85.00       0  \n",
              "2 -0.197913 -0.128446  0.014197 -0.051289  42.70       0  \n",
              "3  0.223605 -0.195509 -0.012791 -0.056841  29.99       0  \n",
              "4  0.563228 -0.574206  0.089673  0.052036  68.00       0  \n",
              "\n",
              "[5 rows x 30 columns]"
            ],
            "text/html": [
              "\n",
              "  <div id=\"df-3ba30197-72ba-4a67-8a1d-53aae42a72c7\">\n",
              "    <div class=\"colab-df-container\">\n",
              "      <div>\n",
              "<style scoped>\n",
              "    .dataframe tbody tr th:only-of-type {\n",
              "        vertical-align: middle;\n",
              "    }\n",
              "\n",
              "    .dataframe tbody tr th {\n",
              "        vertical-align: top;\n",
              "    }\n",
              "\n",
              "    .dataframe thead th {\n",
              "        text-align: right;\n",
              "    }\n",
              "</style>\n",
              "<table border=\"1\" class=\"dataframe\">\n",
              "  <thead>\n",
              "    <tr style=\"text-align: right;\">\n",
              "      <th></th>\n",
              "      <th>V1</th>\n",
              "      <th>V2</th>\n",
              "      <th>V3</th>\n",
              "      <th>V4</th>\n",
              "      <th>V5</th>\n",
              "      <th>V6</th>\n",
              "      <th>V7</th>\n",
              "      <th>V8</th>\n",
              "      <th>V9</th>\n",
              "      <th>V10</th>\n",
              "      <th>...</th>\n",
              "      <th>V21</th>\n",
              "      <th>V22</th>\n",
              "      <th>V23</th>\n",
              "      <th>V24</th>\n",
              "      <th>V25</th>\n",
              "      <th>V26</th>\n",
              "      <th>V27</th>\n",
              "      <th>V28</th>\n",
              "      <th>V29</th>\n",
              "      <th>Target</th>\n",
              "    </tr>\n",
              "  </thead>\n",
              "  <tbody>\n",
              "    <tr>\n",
              "      <th>0</th>\n",
              "      <td>0.114697</td>\n",
              "      <td>0.796303</td>\n",
              "      <td>-0.149553</td>\n",
              "      <td>-0.823011</td>\n",
              "      <td>0.878763</td>\n",
              "      <td>-0.553152</td>\n",
              "      <td>0.939259</td>\n",
              "      <td>-0.108502</td>\n",
              "      <td>0.111137</td>\n",
              "      <td>-0.390521</td>\n",
              "      <td>...</td>\n",
              "      <td>-0.335776</td>\n",
              "      <td>-0.807853</td>\n",
              "      <td>-0.055940</td>\n",
              "      <td>-1.025281</td>\n",
              "      <td>-0.369557</td>\n",
              "      <td>0.204653</td>\n",
              "      <td>0.242724</td>\n",
              "      <td>0.085713</td>\n",
              "      <td>0.89</td>\n",
              "      <td>0</td>\n",
              "    </tr>\n",
              "    <tr>\n",
              "      <th>1</th>\n",
              "      <td>-0.039318</td>\n",
              "      <td>0.495784</td>\n",
              "      <td>-0.810884</td>\n",
              "      <td>0.546693</td>\n",
              "      <td>1.986257</td>\n",
              "      <td>4.386342</td>\n",
              "      <td>-1.344891</td>\n",
              "      <td>-1.743736</td>\n",
              "      <td>-0.563103</td>\n",
              "      <td>-0.616315</td>\n",
              "      <td>...</td>\n",
              "      <td>-1.377003</td>\n",
              "      <td>-0.072200</td>\n",
              "      <td>-0.197573</td>\n",
              "      <td>1.014807</td>\n",
              "      <td>1.011293</td>\n",
              "      <td>-0.167684</td>\n",
              "      <td>0.113136</td>\n",
              "      <td>0.256836</td>\n",
              "      <td>85.00</td>\n",
              "      <td>0</td>\n",
              "    </tr>\n",
              "    <tr>\n",
              "      <th>2</th>\n",
              "      <td>2.275706</td>\n",
              "      <td>-1.531508</td>\n",
              "      <td>-1.021969</td>\n",
              "      <td>-1.602152</td>\n",
              "      <td>-1.220329</td>\n",
              "      <td>-0.462376</td>\n",
              "      <td>-1.196485</td>\n",
              "      <td>-0.147058</td>\n",
              "      <td>-0.950224</td>\n",
              "      <td>1.560463</td>\n",
              "      <td>...</td>\n",
              "      <td>-0.193271</td>\n",
              "      <td>-0.103533</td>\n",
              "      <td>0.150945</td>\n",
              "      <td>-0.811083</td>\n",
              "      <td>-0.197913</td>\n",
              "      <td>-0.128446</td>\n",
              "      <td>0.014197</td>\n",
              "      <td>-0.051289</td>\n",
              "      <td>42.70</td>\n",
              "      <td>0</td>\n",
              "    </tr>\n",
              "    <tr>\n",
              "      <th>3</th>\n",
              "      <td>1.940137</td>\n",
              "      <td>-0.357671</td>\n",
              "      <td>-1.210551</td>\n",
              "      <td>0.382523</td>\n",
              "      <td>0.050823</td>\n",
              "      <td>-0.171322</td>\n",
              "      <td>-0.109124</td>\n",
              "      <td>-0.002115</td>\n",
              "      <td>0.869258</td>\n",
              "      <td>-0.001965</td>\n",
              "      <td>...</td>\n",
              "      <td>0.157994</td>\n",
              "      <td>0.650355</td>\n",
              "      <td>0.034206</td>\n",
              "      <td>0.739535</td>\n",
              "      <td>0.223605</td>\n",
              "      <td>-0.195509</td>\n",
              "      <td>-0.012791</td>\n",
              "      <td>-0.056841</td>\n",
              "      <td>29.99</td>\n",
              "      <td>0</td>\n",
              "    </tr>\n",
              "    <tr>\n",
              "      <th>4</th>\n",
              "      <td>1.081395</td>\n",
              "      <td>-0.502615</td>\n",
              "      <td>1.075887</td>\n",
              "      <td>-0.543359</td>\n",
              "      <td>-1.472946</td>\n",
              "      <td>-1.065484</td>\n",
              "      <td>-0.443231</td>\n",
              "      <td>-0.143374</td>\n",
              "      <td>1.659826</td>\n",
              "      <td>-1.131238</td>\n",
              "      <td>...</td>\n",
              "      <td>0.224157</td>\n",
              "      <td>0.821209</td>\n",
              "      <td>-0.137223</td>\n",
              "      <td>0.986259</td>\n",
              "      <td>0.563228</td>\n",
              "      <td>-0.574206</td>\n",
              "      <td>0.089673</td>\n",
              "      <td>0.052036</td>\n",
              "      <td>68.00</td>\n",
              "      <td>0</td>\n",
              "    </tr>\n",
              "  </tbody>\n",
              "</table>\n",
              "<p>5 rows × 30 columns</p>\n",
              "</div>\n",
              "      <button class=\"colab-df-convert\" onclick=\"convertToInteractive('df-3ba30197-72ba-4a67-8a1d-53aae42a72c7')\"\n",
              "              title=\"Convert this dataframe to an interactive table.\"\n",
              "              style=\"display:none;\">\n",
              "        \n",
              "  <svg xmlns=\"http://www.w3.org/2000/svg\" height=\"24px\"viewBox=\"0 0 24 24\"\n",
              "       width=\"24px\">\n",
              "    <path d=\"M0 0h24v24H0V0z\" fill=\"none\"/>\n",
              "    <path d=\"M18.56 5.44l.94 2.06.94-2.06 2.06-.94-2.06-.94-.94-2.06-.94 2.06-2.06.94zm-11 1L8.5 8.5l.94-2.06 2.06-.94-2.06-.94L8.5 2.5l-.94 2.06-2.06.94zm10 10l.94 2.06.94-2.06 2.06-.94-2.06-.94-.94-2.06-.94 2.06-2.06.94z\"/><path d=\"M17.41 7.96l-1.37-1.37c-.4-.4-.92-.59-1.43-.59-.52 0-1.04.2-1.43.59L10.3 9.45l-7.72 7.72c-.78.78-.78 2.05 0 2.83L4 21.41c.39.39.9.59 1.41.59.51 0 1.02-.2 1.41-.59l7.78-7.78 2.81-2.81c.8-.78.8-2.07 0-2.86zM5.41 20L4 18.59l7.72-7.72 1.47 1.35L5.41 20z\"/>\n",
              "  </svg>\n",
              "      </button>\n",
              "      \n",
              "  <style>\n",
              "    .colab-df-container {\n",
              "      display:flex;\n",
              "      flex-wrap:wrap;\n",
              "      gap: 12px;\n",
              "    }\n",
              "\n",
              "    .colab-df-convert {\n",
              "      background-color: #E8F0FE;\n",
              "      border: none;\n",
              "      border-radius: 50%;\n",
              "      cursor: pointer;\n",
              "      display: none;\n",
              "      fill: #1967D2;\n",
              "      height: 32px;\n",
              "      padding: 0 0 0 0;\n",
              "      width: 32px;\n",
              "    }\n",
              "\n",
              "    .colab-df-convert:hover {\n",
              "      background-color: #E2EBFA;\n",
              "      box-shadow: 0px 1px 2px rgba(60, 64, 67, 0.3), 0px 1px 3px 1px rgba(60, 64, 67, 0.15);\n",
              "      fill: #174EA6;\n",
              "    }\n",
              "\n",
              "    [theme=dark] .colab-df-convert {\n",
              "      background-color: #3B4455;\n",
              "      fill: #D2E3FC;\n",
              "    }\n",
              "\n",
              "    [theme=dark] .colab-df-convert:hover {\n",
              "      background-color: #434B5C;\n",
              "      box-shadow: 0px 1px 3px 1px rgba(0, 0, 0, 0.15);\n",
              "      filter: drop-shadow(0px 1px 2px rgba(0, 0, 0, 0.3));\n",
              "      fill: #FFFFFF;\n",
              "    }\n",
              "  </style>\n",
              "\n",
              "      <script>\n",
              "        const buttonEl =\n",
              "          document.querySelector('#df-3ba30197-72ba-4a67-8a1d-53aae42a72c7 button.colab-df-convert');\n",
              "        buttonEl.style.display =\n",
              "          google.colab.kernel.accessAllowed ? 'block' : 'none';\n",
              "\n",
              "        async function convertToInteractive(key) {\n",
              "          const element = document.querySelector('#df-3ba30197-72ba-4a67-8a1d-53aae42a72c7');\n",
              "          const dataTable =\n",
              "            await google.colab.kernel.invokeFunction('convertToInteractive',\n",
              "                                                     [key], {});\n",
              "          if (!dataTable) return;\n",
              "\n",
              "          const docLinkHtml = 'Like what you see? Visit the ' +\n",
              "            '<a target=\"_blank\" href=https://colab.research.google.com/notebooks/data_table.ipynb>data table notebook</a>'\n",
              "            + ' to learn more about interactive tables.';\n",
              "          element.innerHTML = '';\n",
              "          dataTable['output_type'] = 'display_data';\n",
              "          await google.colab.output.renderOutput(dataTable, element);\n",
              "          const docLink = document.createElement('div');\n",
              "          docLink.innerHTML = docLinkHtml;\n",
              "          element.appendChild(docLink);\n",
              "        }\n",
              "      </script>\n",
              "    </div>\n",
              "  </div>\n",
              "  "
            ]
          },
          "metadata": {},
          "execution_count": 5
        }
      ]
    },
    {
      "cell_type": "code",
      "metadata": {
        "colab": {
          "base_uri": "https://localhost:8080/"
        },
        "id": "P0p9fADlxBod",
        "outputId": "83a1b294-95ac-45f1-9acb-4302670948c0"
      },
      "source": [
        "data['Target'].value_counts()"
      ],
      "execution_count": null,
      "outputs": [
        {
          "output_type": "execute_result",
          "data": {
            "text/plain": [
              "0    56864\n",
              "1       98\n",
              "Name: Target, dtype: int64"
            ]
          },
          "metadata": {},
          "execution_count": 6
        }
      ]
    },
    {
      "cell_type": "code",
      "metadata": {
        "colab": {
          "base_uri": "https://localhost:8080/",
          "height": 334
        },
        "id": "DJUwj8SHwzFq",
        "outputId": "2fb337a5-6501-4e42-b558-88fc8b65dccf"
      },
      "source": [
        "# visualize the target variable\n",
        "g = sns.countplot(data['Target'])\n",
        "g.set_xticklabels(['Not Fraud','Fraud'])\n",
        "plt.show()"
      ],
      "execution_count": null,
      "outputs": [
        {
          "output_type": "stream",
          "name": "stderr",
          "text": [
            "/usr/local/lib/python3.7/dist-packages/seaborn/_decorators.py:43: FutureWarning: Pass the following variable as a keyword arg: x. From version 0.12, the only valid positional argument will be `data`, and passing other arguments without an explicit keyword will result in an error or misinterpretation.\n",
            "  FutureWarning\n"
          ]
        },
        {
          "output_type": "display_data",
          "data": {
            "text/plain": [
              "<Figure size 432x288 with 1 Axes>"
            ],
            "image/png": "[encoded data removed]"
          },
          "metadata": {
            "needs_background": "light"
          }
        }
      ]
    },
    {
      "cell_type": "code",
      "metadata": {
        "id": "lTzQGPG6zY1q"
      },
      "source": [
        "# Creating the dataset with all independent variables\n",
        "X = data.iloc[:,:-1]\n",
        "\n",
        "# Creating the dataset with the dependent variable\n",
        "Y = data.iloc[:,-1]"
      ],
      "execution_count": null,
      "outputs": []
    },
    {
      "cell_type": "code",
      "metadata": {
        "id": "gXq0DcC3zhXn"
      },
      "source": [
        "# Splitting the dataset into the Training set and Test set\n",
        "X_train, X_test, Y_train, Y_test = train_test_split(X, Y, test_size = 0.2, random_state = 3)"
      ],
      "execution_count": null,
      "outputs": []
    },
    {
      "cell_type": "code",
      "metadata": {
        "colab": {
          "base_uri": "https://localhost:8080/"
        },
        "id": "9a9ZOjiazjBa",
        "outputId": "813ebb5f-f8ed-4c77-a8a4-a1d92e89262e"
      },
      "source": [
        "print(\"Distribution of classes of dependent variable in train :\")\n",
        "print(Y_train.value_counts())\n",
        "\n",
        "print(\"\\n Distribution of classes of dependent variable in test :\")\n",
        "print(Y_test.value_counts())"
      ],
      "execution_count": null,
      "outputs": [
        {
          "output_type": "stream",
          "text": [
            "Distribution of classes of dependent variable in train :\n",
            "0    45492\n",
            "1       77\n",
            "Name: Target, dtype: int64\n",
            "\n",
            " Distribution of classes of dependent variable in test :\n",
            "0    11372\n",
            "1       21\n",
            "Name: Target, dtype: int64\n"
          ],
          "name": "stdout"
        }
      ]
    },
    {
      "cell_type": "code",
      "metadata": {
        "colab": {
          "base_uri": "https://localhost:8080/"
        },
        "id": "qfs9OyzcyWP0",
        "outputId": "20833647-02de-4391-ce27-73941951ae78"
      },
      "source": [
        "from sklearn.neighbors import KNeighborsClassifier\n",
        "classifier = KNeighborsClassifier(n_neighbors = 5, metric = 'minkowski', p = 2)\n",
        "classifier.fit(X_train, Y_train)"
      ],
      "execution_count": null,
      "outputs": [
        {
          "output_type": "execute_result",
          "data": {
            "text/plain": [
              "KNeighborsClassifier(algorithm='auto', leaf_size=30, metric='minkowski',\n",
              "                     metric_params=None, n_jobs=None, n_neighbors=5, p=2,\n",
              "                     weights='uniform')"
            ]
          },
          "metadata": {
            "tags": []
          },
          "execution_count": 11
        }
      ]
    },
    {
      "cell_type": "code",
      "metadata": {
        "id": "-f8tSs-70h1M"
      },
      "source": [
        "y_pred = classifier.predict(X_test)"
      ],
      "execution_count": null,
      "outputs": []
    },
    {
      "cell_type": "code",
      "metadata": {
        "colab": {
          "base_uri": "https://localhost:8080/"
        },
        "id": "9SIo8_Tb0qez",
        "outputId": "de2f2509-c97e-46a0-beb0-ce74c0ae975b"
      },
      "source": [
        "accuracy_score(y_pred, Y_test)"
      ],
      "execution_count": null,
      "outputs": [
        {
          "output_type": "execute_result",
          "data": {
            "text/plain": [
              "0.9987711752830686"
            ]
          },
          "metadata": {
            "tags": []
          },
          "execution_count": 15
        }
      ]
    },
    {
      "cell_type": "code",
      "metadata": {
        "colab": {
          "base_uri": "https://localhost:8080/"
        },
        "id": "EYhzZBon0ofE",
        "outputId": "dcf41514-32d8-4408-e8ea-76546b225f21"
      },
      "source": [
        "confusion_matrix(y_pred, Y_test)"
      ],
      "execution_count": null,
      "outputs": [
        {
          "output_type": "execute_result",
          "data": {
            "text/plain": [
              "array([[11371,    13],\n",
              "       [    1,     8]])"
            ]
          },
          "metadata": {
            "tags": []
          },
          "execution_count": 14
        }
      ]
    },
    {
      "cell_type": "code",
      "metadata": {
        "colab": {
          "base_uri": "https://localhost:8080/"
        },
        "id": "7_m8BV7V0zt0",
        "outputId": "942b11b6-f01b-4f81-8cdf-5b7128e5cc23"
      },
      "source": [
        "roc_auc_score(y_pred, Y_test)"
      ],
      "execution_count": null,
      "outputs": [
        {
          "output_type": "execute_result",
          "data": {
            "text/plain": [
              "0.9438734676348871"
            ]
          },
          "metadata": {
            "tags": []
          },
          "execution_count": 16
        }
      ]
    },
    {
      "cell_type": "code",
      "metadata": {
        "colab": {
          "base_uri": "https://localhost:8080/"
        },
        "id": "-D_aOBCJ8NwF",
        "outputId": "38cc65ca-eb09-496c-dbac-5e1f1387b183"
      },
      "source": [
        "# Class count\n",
        "class_count_0, class_count_1 = data['Target'].value_counts()\n",
        "\n",
        "# Separate class\n",
        "class_0 = data[data['Target'] == 0]\n",
        "class_1 = data[data['Target'] == 1]\n",
        "print('class 0:', class_0.shape)\n",
        "print('class 1:', class_1.shape)"
      ],
      "execution_count": null,
      "outputs": [
        {
          "output_type": "stream",
          "name": "stdout",
          "text": [
            "class 0: (56864, 30)\n",
            "class 1: (98, 30)\n"
          ]
        }
      ]
    },
    {
      "cell_type": "code",
      "metadata": {
        "id": "KrdqWg_Y4pXG"
      },
      "source": [
        "class_0_under = class_0.sample(class_count_1)\n",
        "test_under = pd.concat([class_0_under, class_1], axis=0)"
      ],
      "execution_count": null,
      "outputs": []
    },
    {
      "cell_type": "code",
      "metadata": {
        "colab": {
          "base_uri": "https://localhost:8080/"
        },
        "id": "QB94TIul8uus",
        "outputId": "3f6357fe-2a93-4205-edb9-79d42edb10b8"
      },
      "source": [
        "test_under['Target'].value_counts()"
      ],
      "execution_count": null,
      "outputs": [
        {
          "output_type": "execute_result",
          "data": {
            "text/plain": [
              "1    98\n",
              "0    98\n",
              "Name: Target, dtype: int64"
            ]
          },
          "metadata": {
            "tags": []
          },
          "execution_count": 23
        }
      ]
    },
    {
      "cell_type": "code",
      "metadata": {
        "colab": {
          "base_uri": "https://localhost:8080/",
          "height": 295
        },
        "id": "TE19zJIY8eHe",
        "outputId": "1940b428-e702-405b-a6a6-4aae4e3581f3"
      },
      "source": [
        "test_under['Target'].value_counts().plot(kind='bar', title='count (Target)')"
      ],
      "execution_count": null,
      "outputs": [
        {
          "output_type": "execute_result",
          "data": {
            "text/plain": [
              "<matplotlib.axes._subplots.AxesSubplot at 0x7f2cb26c5780>"
            ]
          },
          "metadata": {
            "tags": []
          },
          "execution_count": 25
        },
        {
          "output_type": "display_data",
          "data": {
            "image/png": "[encoded data removed]",
            "text/plain": [
              "<Figure size 432x288 with 1 Axes>"
            ]
          },
          "metadata": {
            "tags": [],
            "needs_background": "light"
          }
        }
      ]
    },
    {
      "cell_type": "code",
      "metadata": {
        "colab": {
          "base_uri": "https://localhost:8080/"
        },
        "id": "28oJ5WDu8ybB",
        "outputId": "b8f281f0-ca7a-4fec-96f0-26edde70de95"
      },
      "source": [
        "from imblearn.under_sampling import RandomUnderSampler\n",
        "\n",
        "rus = RandomUnderSampler(random_state=42, replacement=True)\n",
        "x_rus, y_rus = rus.fit_resample(data.iloc[:,0:-1], data['Target'])\n",
        "\n",
        "print('Original dataset shape:', len(data))\n",
        "print('Resampled dataset shape', len(y_rus))"
      ],
      "execution_count": null,
      "outputs": [
        {
          "output_type": "stream",
          "name": "stdout",
          "text": [
            "Original dataset shape: 56962\n",
            "Resampled dataset shape 196\n"
          ]
        }
      ]
    },
    {
      "cell_type": "code",
      "metadata": {
        "id": "s1KlonfQ9cNG"
      },
      "source": [
        "class_1_over = class_1.sample(class_count_0, replace=True)\n",
        "test_over = pd.concat([class_1_over, class_0], axis=0)"
      ],
      "execution_count": null,
      "outputs": []
    },
    {
      "cell_type": "code",
      "metadata": {
        "colab": {
          "base_uri": "https://localhost:8080/"
        },
        "id": "UBNYb9jg-Awk",
        "outputId": "9a5399dc-18b3-4062-af97-fc688ba927a7"
      },
      "source": [
        "test_over['Target'].value_counts()"
      ],
      "execution_count": null,
      "outputs": [
        {
          "output_type": "execute_result",
          "data": {
            "text/plain": [
              "1    56864\n",
              "0    56864\n",
              "Name: Target, dtype: int64"
            ]
          },
          "metadata": {
            "tags": []
          },
          "execution_count": 37
        }
      ]
    },
    {
      "cell_type": "code",
      "metadata": {
        "colab": {
          "base_uri": "https://localhost:8080/",
          "height": 295
        },
        "id": "cY5bKBA7-D_E",
        "outputId": "0fece638-f23e-4804-fdbc-1750dab0075c"
      },
      "source": [
        "test_over['Target'].value_counts().plot(kind='bar', title='count (Target)')"
      ],
      "execution_count": null,
      "outputs": [
        {
          "output_type": "execute_result",
          "data": {
            "text/plain": [
              "<matplotlib.axes._subplots.AxesSubplot at 0x7f2ca8184470>"
            ]
          },
          "metadata": {
            "tags": []
          },
          "execution_count": 38
        },
        {
          "output_type": "display_data",
          "data": {
            "image/png": "[encoded data removed]",
            "text/plain": [
              "<Figure size 432x288 with 1 Axes>"
            ]
          },
          "metadata": {
            "tags": [],
            "needs_background": "light"
          }
        }
      ]
    },
    {
      "cell_type": "code",
      "metadata": {
        "colab": {
          "base_uri": "https://localhost:8080/"
        },
        "id": "avsCMzrU-LGJ",
        "outputId": "aefbeb28-8c42-4a77-c15e-c942a734df64"
      },
      "source": [
        "from imblearn.over_sampling import RandomOverSampler\n",
        "\n",
        "ros = RandomOverSampler(random_state=42)\n",
        "x_ros, y_ros = ros.fit_resample(data.iloc[:,0:-1], data['Target'])\n",
        "\n",
        "print('Original dataset shape:', len(data))\n",
        "print('Resampled dataset shape', len(y_ros))"
      ],
      "execution_count": null,
      "outputs": [
        {
          "output_type": "stream",
          "text": [
            "Original dataset shape: 56962\n",
            "Resampled dataset shape 113728\n"
          ],
          "name": "stdout"
        },
        {
          "output_type": "stream",
          "text": [
            "/usr/local/lib/python3.6/dist-packages/sklearn/utils/deprecation.py:87: FutureWarning: Function safe_indexing is deprecated; safe_indexing is deprecated in version 0.22 and will be removed in version 0.24.\n",
            "  warnings.warn(msg, category=FutureWarning)\n"
          ],
          "name": "stderr"
        }
      ]
    },
    {
      "cell_type": "code",
      "metadata": {
        "colab": {
          "base_uri": "https://localhost:8080/"
        },
        "id": "REYk3AvQ-UR_",
        "outputId": "0c17b40e-5508-4138-bd35-a1b3cb33e854"
      },
      "source": [
        "from imblearn.under_sampling import TomekLinks\n",
        "\n",
        "tl = TomekLinks(ratio='majority')\n",
        "\n",
        "X_tl, y_tl = tl.fit_sample(data.iloc[:,0:-1], data['Target'])\n",
        "\n",
        "print('Original dataset shape:', len(data))\n",
        "print('Resampled dataset shape', len(y_tl))"
      ],
      "execution_count": null,
      "outputs": [
        {
          "output_type": "stream",
          "text": [
            "Original dataset shape: 56962\n",
            "Resampled dataset shape 56955\n"
          ],
          "name": "stdout"
        },
        {
          "output_type": "stream",
          "text": [
            "/usr/local/lib/python3.6/dist-packages/sklearn/utils/deprecation.py:87: FutureWarning: Function safe_indexing is deprecated; safe_indexing is deprecated in version 0.22 and will be removed in version 0.24.\n",
            "  warnings.warn(msg, category=FutureWarning)\n"
          ],
          "name": "stderr"
        }
      ]
    },
    {
      "cell_type": "code",
      "metadata": {
        "colab": {
          "base_uri": "https://localhost:8080/"
        },
        "id": "JlvbQmwh_O6x",
        "outputId": "cf02192b-130a-4075-df94-24cd42bb31d3"
      },
      "source": [
        "from imblearn.over_sampling import SMOTE\n",
        "\n",
        "smote = SMOTE()\n",
        "\n",
        "# fit predictor and target variable\n",
        "x_smote, y_smote = smote.fit_resample(data.iloc[:,0:-1], data['Target'])\n",
        "\n",
        "print('Original dataset shape', len(data))\n",
        "print('Resampled dataset shape', len(y_smote))"
      ],
      "execution_count": null,
      "outputs": [
        {
          "output_type": "stream",
          "text": [
            "/usr/local/lib/python3.6/dist-packages/sklearn/utils/deprecation.py:87: FutureWarning: Function safe_indexing is deprecated; safe_indexing is deprecated in version 0.22 and will be removed in version 0.24.\n",
            "  warnings.warn(msg, category=FutureWarning)\n"
          ],
          "name": "stderr"
        },
        {
          "output_type": "stream",
          "text": [
            "Original dataset shape 56962\n",
            "Resampled dataset shape 113728\n"
          ],
          "name": "stdout"
        }
      ]
    },
    {
      "cell_type": "markdown",
      "source": [
        "**lets penalies for oversampling**"
      ],
      "metadata": {
        "id": "etGkxIP5ZY7d"
      }
    },
    {
      "cell_type": "code",
      "metadata": {
        "colab": {
          "base_uri": "https://localhost:8080/",
          "height": 230
        },
        "id": "utSGQWVgAWMW",
        "outputId": "faf9e62a-2341-4659-88ef-74ba411cca16"
      },
      "source": [
        "from sklearn.svm import SVC\n",
        "\n",
        "# we can add class_weight='balanced' to add penalize mistake\n",
        "svc_model = SVC(class_weight='balanced', probability=True)\n",
        "\n",
        "svc_model.fit(X_train, Y_train)\n",
        "\n",
        "svc_predict = svc_model.predict(X_test)\n",
        "print('ROCAUC score:',roc_auc_score(Y_test, svc_predict))\n",
        "print('Accuracy score:',accuracy_score(Y_test, svc_predict))"
      ],
      "execution_count": null,
      "outputs": [
        {
          "output_type": "stream",
          "text": [
            "ROCAUC score: 0.9218443796794131\n",
            "Accuracy score: 0.986307381725621\n"
          ],
          "name": "stdout"
        },
        {
          "output_type": "error",
          "ename": "NameError",
          "evalue": "ignored",
          "traceback": [
            "\u001b[0;31m---------------------------------------------------------------------------\u001b[0m",
            "\u001b[0;31mNameError\u001b[0m                                 Traceback (most recent call last)",
            "\u001b[0;32m<ipython-input-44-e0fab0da6925>\u001b[0m in \u001b[0;36m<module>\u001b[0;34m()\u001b[0m\n\u001b[1;32m      9\u001b[0m \u001b[0mprint\u001b[0m\u001b[0;34m(\u001b[0m\u001b[0;34m'ROCAUC score:'\u001b[0m\u001b[0;34m,\u001b[0m\u001b[0mroc_auc_score\u001b[0m\u001b[0;34m(\u001b[0m\u001b[0mY_test\u001b[0m\u001b[0;34m,\u001b[0m \u001b[0msvc_predict\u001b[0m\u001b[0;34m)\u001b[0m\u001b[0;34m)\u001b[0m\u001b[0;34m\u001b[0m\u001b[0;34m\u001b[0m\u001b[0m\n\u001b[1;32m     10\u001b[0m \u001b[0mprint\u001b[0m\u001b[0;34m(\u001b[0m\u001b[0;34m'Accuracy score:'\u001b[0m\u001b[0;34m,\u001b[0m\u001b[0maccuracy_score\u001b[0m\u001b[0;34m(\u001b[0m\u001b[0mY_test\u001b[0m\u001b[0;34m,\u001b[0m \u001b[0msvc_predict\u001b[0m\u001b[0;34m)\u001b[0m\u001b[0;34m)\u001b[0m\u001b[0;34m\u001b[0m\u001b[0;34m\u001b[0m\u001b[0m\n\u001b[0;32m---> 11\u001b[0;31m \u001b[0mprint\u001b[0m\u001b[0;34m(\u001b[0m\u001b[0;34m'F1 score:'\u001b[0m\u001b[0;34m,\u001b[0m\u001b[0mf1_score\u001b[0m\u001b[0;34m(\u001b[0m\u001b[0mY_test\u001b[0m\u001b[0;34m,\u001b[0m \u001b[0msvc_predict\u001b[0m\u001b[0;34m)\u001b[0m\u001b[0;34m)\u001b[0m\u001b[0;34m\u001b[0m\u001b[0;34m\u001b[0m\u001b[0m\n\u001b[0m",
            "\u001b[0;31mNameError\u001b[0m: name 'f1_score' is not defined"
          ]
        }
      ]
    },
    {
      "cell_type": "markdown",
      "metadata": {
        "id": "q-rdwgGHCRED"
      },
      "source": [
        "**But what happens exactly in the background?**\n",
        "\n",
        "Let's take the loss function of logistic regression:\n",
        "\n",
        "`Loss = −ylog(p) − (1−y)log(1−p)`\n",
        "\n",
        "In this particular form, we give equal weight to both the positive and the negative classes. When we set class_weight as `class_weight = {0:1,1:20}`, the classifier in the background tries to minimize:\n",
        "\n",
        "```\n",
        "NewLoss = −20*ylog(p) − 1*(1−y)log(1−p)\n",
        "```\n",
        "\n",
        "\n",
        "\n",
        "**So what happens exactly here?**\n",
        "* If our model gives a probability of 0.3 and we misclassify a positive example, the NewLoss acquires a value of -20log(0.3) = 10.45\n",
        "* If our model gives a probability of 0.7 and we misclassify a negative example, the NewLoss acquires a value of -log(0.3) = 0.52\n",
        "\n",
        "That means we penalize our model around twenty times more when it misclassifies a positive minority example in this case."
      ]
    },
    {
      "cell_type": "markdown",
      "metadata": {
        "id": "M65UQmyTBbES"
      },
      "source": [
        "# 6. Try Tree Based Algorithms\n"
      ]
    },
    {
      "cell_type": "code",
      "metadata": {
        "colab": {
          "base_uri": "https://localhost:8080/"
        },
        "id": "xSo354JpBPTB",
        "outputId": "50da2b76-98e7-486f-c253-9c15e3e5757f"
      },
      "source": [
        "from xgboost import XGBClassifier\n",
        "\n",
        "xgb_model = XGBClassifier().fit(X_train, Y_train)\n",
        "\n",
        "# predict\n",
        "xgb_y_predict = xgb_model.predict(X_test)\n",
        "\n",
        "print('ROCAUC score:', roc_auc_score(Y_test, xgb_y_predict))\n",
        "print('Accuracy score:', accuracy_score(Y_test, xgb_y_predict))"
      ],
      "execution_count": null,
      "outputs": [
        {
          "output_type": "stream",
          "text": [
            "ROCAUC score: 0.8808204780329296\n",
            "Accuracy score: 0.9992978144474678\n"
          ],
          "name": "stdout"
        }
      ]
    },
    {
      "cell_type": "markdown",
      "metadata": {
        "id": "SnbicozzEaWL"
      },
      "source": [
        "# Let's use SMOTE + Deep Neural Network to solve this!"
      ]
    },
    {
      "cell_type": "code",
      "metadata": {
        "id": "KZAZHdxVEL5K"
      },
      "source": [
        "# Splitting the dataset into the Training set and Test set\n",
        "x_train, x_test, y_train, y_test = train_test_split(x_smote, y_smote, test_size = 0.2, random_state = 3)"
      ],
      "execution_count": null,
      "outputs": []
    },
    {
      "cell_type": "code",
      "metadata": {
        "id": "FXa4wB2_ERH7"
      },
      "source": [
        "# DNN\n",
        "from tensorflow import keras\n",
        "\n",
        "def get_model():\n",
        "    model = keras.Sequential([\n",
        "        keras.layers.Flatten(input_shape=[X_train.shape[-1]]),\n",
        "        keras.layers.Dense(512, activation='relu'),\n",
        "        keras.layers.Dense(256, activation='relu'),\n",
        "        keras.layers.Dense(128, activation='relu'),\n",
        "        keras.layers.Dense(64, activation='relu'),\n",
        "        keras.layers.Dense(32, activation='relu'),\n",
        "        keras.layers.Dropout(0.5),\n",
        "        keras.layers.Dense(9, activation='softmax')\n",
        "    ])\n",
        "    model.compile(optimizer='adam', \n",
        "                  loss='sparse_categorical_crossentropy',\n",
        "                  metrics=['accuracy'])\n",
        "    return model"
      ],
      "execution_count": null,
      "outputs": []
    },
    {
      "cell_type": "code",
      "metadata": {
        "colab": {
          "base_uri": "https://localhost:8080/"
        },
        "id": "9XgbgIe8Eccc",
        "outputId": "bdeae7ee-8880-404e-d28e-7a9a85866bbc"
      },
      "source": [
        "# DNN (fit and validation)\n",
        "import tensorflow as tf\n",
        "\n",
        "batch_size = 512\n",
        "train_ds = tf.data.Dataset.from_tensor_slices((x_train, y_train)).shuffle(len(x_train)).batch(batch_size)\n",
        "val_ds = tf.data.Dataset.from_tensor_slices((x_test, y_test)).batch(batch_size)\n",
        "\n",
        "model = get_model()\n",
        "fit = model.fit(train_ds, validation_data=val_ds, epochs=20)"
      ],
      "execution_count": null,
      "outputs": [
        {
          "output_type": "stream",
          "text": [
            "Epoch 1/20\n",
            "178/178 [==============================] - 4s 20ms/step - loss: 0.8291 - accuracy: 0.7752 - val_loss: 0.0328 - val_accuracy: 0.9893\n",
            "Epoch 2/20\n",
            "178/178 [==============================] - 3s 19ms/step - loss: 0.0756 - accuracy: 0.9759 - val_loss: 0.0322 - val_accuracy: 0.9903\n",
            "Epoch 3/20\n",
            "178/178 [==============================] - 3s 19ms/step - loss: 0.0579 - accuracy: 0.9836 - val_loss: 0.0351 - val_accuracy: 0.9868\n",
            "Epoch 4/20\n",
            "178/178 [==============================] - 3s 19ms/step - loss: 0.2044 - accuracy: 0.9568 - val_loss: 0.0330 - val_accuracy: 0.9924\n",
            "Epoch 5/20\n",
            "178/178 [==============================] - 3s 19ms/step - loss: 0.0457 - accuracy: 0.9818 - val_loss: 0.0193 - val_accuracy: 0.9914\n",
            "Epoch 6/20\n",
            "178/178 [==============================] - 4s 20ms/step - loss: 0.0275 - accuracy: 0.9887 - val_loss: 0.0230 - val_accuracy: 0.9870\n",
            "Epoch 7/20\n",
            "178/178 [==============================] - 3s 19ms/step - loss: 0.0330 - accuracy: 0.9896 - val_loss: 0.0195 - val_accuracy: 0.9932\n",
            "Epoch 8/20\n",
            "178/178 [==============================] - 3s 19ms/step - loss: 0.0259 - accuracy: 0.9916 - val_loss: 0.0345 - val_accuracy: 0.9920\n",
            "Epoch 9/20\n",
            "178/178 [==============================] - 4s 19ms/step - loss: 0.0380 - accuracy: 0.9862 - val_loss: 0.0093 - val_accuracy: 0.9989\n",
            "Epoch 10/20\n",
            "178/178 [==============================] - 3s 19ms/step - loss: 0.0382 - accuracy: 0.9904 - val_loss: 0.0124 - val_accuracy: 0.9982\n",
            "Epoch 11/20\n",
            "178/178 [==============================] - 3s 19ms/step - loss: 0.0185 - accuracy: 0.9940 - val_loss: 0.0099 - val_accuracy: 0.9963\n",
            "Epoch 12/20\n",
            "178/178 [==============================] - 3s 19ms/step - loss: 0.0312 - accuracy: 0.9917 - val_loss: 0.0252 - val_accuracy: 0.9951\n",
            "Epoch 13/20\n",
            "178/178 [==============================] - 3s 19ms/step - loss: 0.0229 - accuracy: 0.9930 - val_loss: 0.0152 - val_accuracy: 0.9942\n",
            "Epoch 14/20\n",
            "178/178 [==============================] - 4s 19ms/step - loss: 0.0181 - accuracy: 0.9937 - val_loss: 0.0134 - val_accuracy: 0.9971\n",
            "Epoch 15/20\n",
            "178/178 [==============================] - 3s 19ms/step - loss: 0.0100 - accuracy: 0.9967 - val_loss: 0.0089 - val_accuracy: 0.9984\n",
            "Epoch 16/20\n",
            "178/178 [==============================] - 3s 19ms/step - loss: 0.0098 - accuracy: 0.9971 - val_loss: 0.0086 - val_accuracy: 0.9985\n",
            "Epoch 17/20\n",
            "178/178 [==============================] - 3s 19ms/step - loss: 0.0098 - accuracy: 0.9970 - val_loss: 0.0072 - val_accuracy: 0.9993\n",
            "Epoch 18/20\n",
            "178/178 [==============================] - 4s 19ms/step - loss: 0.0105 - accuracy: 0.9972 - val_loss: 0.0092 - val_accuracy: 0.9972\n",
            "Epoch 19/20\n",
            "178/178 [==============================] - 3s 19ms/step - loss: 0.0187 - accuracy: 0.9947 - val_loss: 0.0059 - val_accuracy: 0.9989\n",
            "Epoch 20/20\n",
            "178/178 [==============================] - 3s 19ms/step - loss: 0.0090 - accuracy: 0.9974 - val_loss: 0.0058 - val_accuracy: 0.9985\n"
          ],
          "name": "stdout"
        }
      ]
    },
    {
      "cell_type": "code",
      "metadata": {
        "colab": {
          "base_uri": "https://localhost:8080/",
          "height": 265
        },
        "id": "jiCuRrpBFQcz",
        "outputId": "b96ed888-d81c-4d18-f75f-a17ac221feff"
      },
      "source": [
        "import matplotlib.pyplot as plt\n",
        "\n",
        "plt.plot(fit.history['accuracy'], color='blue')\n",
        "plt.plot(fit.history['val_accuracy'], color='red')\n",
        "plt.show()"
      ],
      "execution_count": null,
      "outputs": [
        {
          "output_type": "display_data",
          "data": {
            "image/png": "[encoded data removed]",
            "text/plain": [
              "<Figure size 432x288 with 1 Axes>"
            ]
          },
          "metadata": {
            "tags": [],
            "needs_background": "light"
          }
        }
      ]
    },
    {
      "cell_type": "code",
      "metadata": {
        "colab": {
          "base_uri": "https://localhost:8080/"
        },
        "id": "WSe4PWrMFr6-",
        "outputId": "79549188-6859-4881-dd74-b715a4e82981"
      },
      "source": [
        "y_pred_nn = model.predict_classes(val_ds)"
      ],
      "execution_count": null,
      "outputs": [
        {
          "output_type": "stream",
          "text": [
            "/usr/local/lib/python3.6/dist-packages/tensorflow/python/keras/engine/sequential.py:450: UserWarning: `model.predict_classes()` is deprecated and will be removed after 2021-01-01. Please use instead:* `np.argmax(model.predict(x), axis=-1)`,   if your model does multi-class classification   (e.g. if it uses a `softmax` last-layer activation).* `(model.predict(x) > 0.5).astype(\"int32\")`,   if your model does binary classification   (e.g. if it uses a `sigmoid` last-layer activation).\n",
            "  warnings.warn('`model.predict_classes()` is deprecated and '\n"
          ],
          "name": "stderr"
        }
      ]
    },
    {
      "cell_type": "code",
      "metadata": {
        "colab": {
          "base_uri": "https://localhost:8080/"
        },
        "id": "Jjz32mOCGKPY",
        "outputId": "09c22d95-db2b-4738-c766-5002ced14d07"
      },
      "source": [
        "print('ROCAUC score:', roc_auc_score(y_test, y_pred_nn))\n",
        "print('Accuracy score:', accuracy_score(y_test, y_pred_nn))"
      ],
      "execution_count": null,
      "outputs": [
        {
          "output_type": "stream",
          "text": [
            "ROCAUC score: 0.998494885633584\n",
            "Accuracy score: 0.9985052316890882\n"
          ],
          "name": "stdout"
        }
      ]
    },
    {
      "cell_type": "markdown",
      "metadata": {
        "id": "PzK9akaTGosz"
      },
      "source": [
        "# That looks great! Fraudsters, here I come!"
      ]
    }
  ]
}